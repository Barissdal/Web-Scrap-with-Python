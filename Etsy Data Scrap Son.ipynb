{
 "cells": [
  {
   "cell_type": "code",
   "execution_count": 1,
   "metadata": {},
   "outputs": [
    {
     "name": "stderr",
     "output_type": "stream",
     "text": [
      "C:\\Users\\GS\\anaconda3\\lib\\site-packages\\requests\\__init__.py:89: RequestsDependencyWarning: urllib3 (1.26.8) or chardet (3.0.4) doesn't match a supported version!\n",
      "  warnings.warn(\"urllib3 ({}) or chardet ({}) doesn't match a supported \"\n"
     ]
    }
   ],
   "source": [
    "import pandas as pd\n",
    "from bs4 import BeautifulSoup\n",
    "import requests\n",
    "import time"
   ]
  },
  {
   "cell_type": "code",
   "execution_count": 19,
   "metadata": {},
   "outputs": [
    {
     "name": "stdout",
     "output_type": "stream",
     "text": [
      "Requirement already satisfied: selenium in c:\\users\\gs\\anaconda3\\lib\\site-packages (4.1.0)\n",
      "Requirement already satisfied: trio-websocket~=0.9 in c:\\users\\gs\\anaconda3\\lib\\site-packages (from selenium) (0.9.2)\n",
      "Requirement already satisfied: trio~=0.17 in c:\\users\\gs\\anaconda3\\lib\\site-packages (from selenium) (0.19.0)\n",
      "Requirement already satisfied: urllib3[secure]~=1.26 in c:\\users\\gs\\anaconda3\\lib\\site-packages (from selenium) (1.26.8)\n",
      "Requirement already satisfied: wsproto>=0.14 in c:\\users\\gs\\anaconda3\\lib\\site-packages (from trio-websocket~=0.9->selenium) (1.0.0)\n",
      "Requirement already satisfied: async-generator>=1.10 in c:\\users\\gs\\anaconda3\\lib\\site-packages (from trio-websocket~=0.9->selenium) (1.10)\n",
      "Requirement already satisfied: attrs>=19.2.0 in c:\\users\\gs\\anaconda3\\lib\\site-packages (from trio~=0.17->selenium) (20.3.0)\n",
      "Requirement already satisfied: outcome in c:\\users\\gs\\anaconda3\\lib\\site-packages (from trio~=0.17->selenium) (1.1.0)\n",
      "Requirement already satisfied: sniffio in c:\\users\\gs\\anaconda3\\lib\\site-packages (from trio~=0.17->selenium) (1.2.0)\n",
      "Requirement already satisfied: cffi>=1.14; os_name == \"nt\" and implementation_name != \"pypy\" in c:\\users\\gs\\anaconda3\\lib\\site-packages (from trio~=0.17->selenium) (1.14.3)\n",
      "Requirement already satisfied: sortedcontainers in c:\\users\\gs\\anaconda3\\lib\\site-packages (from trio~=0.17->selenium) (2.2.2)\n",
      "Requirement already satisfied: idna in c:\\users\\gs\\anaconda3\\lib\\site-packages (from trio~=0.17->selenium) (2.10)\n",
      "Requirement already satisfied: cryptography>=1.3.4; extra == \"secure\" in c:\\users\\gs\\anaconda3\\lib\\site-packages (from urllib3[secure]~=1.26->selenium) (3.1.1)\n",
      "Requirement already satisfied: pyOpenSSL>=0.14; extra == \"secure\" in c:\\users\\gs\\anaconda3\\lib\\site-packages (from urllib3[secure]~=1.26->selenium) (19.1.0)\n",
      "Requirement already satisfied: certifi; extra == \"secure\" in c:\\users\\gs\\anaconda3\\lib\\site-packages (from urllib3[secure]~=1.26->selenium) (2020.6.20)\n",
      "Requirement already satisfied: h11<1,>=0.9.0 in c:\\users\\gs\\anaconda3\\lib\\site-packages (from wsproto>=0.14->trio-websocket~=0.9->selenium) (0.13.0)\n",
      "Requirement already satisfied: pycparser in c:\\users\\gs\\anaconda3\\lib\\site-packages (from cffi>=1.14; os_name == \"nt\" and implementation_name != \"pypy\"->trio~=0.17->selenium) (2.20)\n",
      "Requirement already satisfied: six>=1.4.1 in c:\\users\\gs\\anaconda3\\lib\\site-packages (from cryptography>=1.3.4; extra == \"secure\"->urllib3[secure]~=1.26->selenium) (1.15.0)\n",
      "Note: you may need to restart the kernel to use updated packages.\n"
     ]
    }
   ],
   "source": [
    "pip install selenium"
   ]
  },
  {
   "cell_type": "code",
   "execution_count": 2,
   "metadata": {},
   "outputs": [
    {
     "name": "stderr",
     "output_type": "stream",
     "text": [
      "<ipython-input-2-8c561112c407>:8: DeprecationWarning: executable_path has been deprecated, please pass in a Service object\n",
      "  driver = webdriver.Chrome(chrome_path)\n"
     ]
    }
   ],
   "source": [
    "import time\n",
    "from selenium import webdriver\n",
    "\n",
    "#chrome tarayıcının sürümünün bilgisayardaki konumu\n",
    "chrome_path = r\"C:\\Users\\GS\\Downloads\\chromedriver.exe\"\n",
    "\n",
    "#tarayıcıyı çağır ve boyutunu belirle\n",
    "driver = webdriver.Chrome(chrome_path)\n",
    "#driver = webdriver.Chrome(\"E:\\Jars\\chromedriver.exe\")\n",
    "driver.set_window_size(1000, 806)"
   ]
  },
  {
   "cell_type": "code",
   "execution_count": 3,
   "metadata": {},
   "outputs": [],
   "source": [
    "import pandas as pd\n",
    "#Belli bir koşulun oluşmasını bekleyen kütüphane\n",
    "from selenium.webdriver.support import expected_conditions as EC\n",
    "from selenium.webdriver.support.ui import WebDriverWait \n",
    "from selenium.webdriver.common.by import By"
   ]
  },
  {
   "cell_type": "code",
   "execution_count": 4,
   "metadata": {},
   "outputs": [],
   "source": [
    "#linke git\n",
    "#driver.get(f\"https://www.etsy.com/search?q=tesbih&explicit=1&order=price_desc\")\n",
    "driver.get(f\"https://www.etsy.com/search?q=Batman+skull&explicit=1&order=price_desc\")\n",
    "#soup = BeautifulSoup(driver.page_source, 'lxml')"
   ]
  },
  {
   "cell_type": "code",
   "execution_count": null,
   "metadata": {},
   "outputs": [],
   "source": [
    "######################################### DENEME"
   ]
  },
  {
   "cell_type": "code",
   "execution_count": 139,
   "metadata": {},
   "outputs": [
    {
     "data": {
      "text/html": [
       "<div>\n",
       "<style scoped>\n",
       "    .dataframe tbody tr th:only-of-type {\n",
       "        vertical-align: middle;\n",
       "    }\n",
       "\n",
       "    .dataframe tbody tr th {\n",
       "        vertical-align: top;\n",
       "    }\n",
       "\n",
       "    .dataframe thead th {\n",
       "        text-align: right;\n",
       "    }\n",
       "</style>\n",
       "<table border=\"1\" class=\"dataframe\">\n",
       "  <thead>\n",
       "    <tr style=\"text-align: right;\">\n",
       "      <th></th>\n",
       "      <th>Title</th>\n",
       "      <th>Link</th>\n",
       "      <th>Price</th>\n",
       "      <th>Sales</th>\n",
       "      <th>Stars</th>\n",
       "      <th>Review</th>\n",
       "    </tr>\n",
       "  </thead>\n",
       "  <tbody>\n",
       "  </tbody>\n",
       "</table>\n",
       "</div>"
      ],
      "text/plain": [
       "Empty DataFrame\n",
       "Columns: [Title, Link, Price, Sales, Stars, Review]\n",
       "Index: []"
      ]
     },
     "execution_count": 139,
     "metadata": {},
     "output_type": "execute_result"
    }
   ],
   "source": [
    "df = pd.DataFrame(columns=[\"Title\",\"Link\",\"Price\",\"Sales\",\"Stars\",\"Review\"])\n",
    "df"
   ]
  },
  {
   "cell_type": "code",
   "execution_count": 140,
   "metadata": {},
   "outputs": [],
   "source": [
    "a=1\n",
    "\n",
    "while a <=10:\n",
    "    driver.get(f\"https://www.etsy.com/search?q=Batman+skull&explicit=1&order=price_desc&ref=pagination&page=\"+str(a)+\"\")\n",
    "    soup = BeautifulSoup(driver.page_source, 'lxml')\n",
    "    time.sleep(2)\n",
    "        #items = soup.select('.wt-grid--block')\n",
    "    items = soup.select('.wt-grid__item-xs-6.wt-grid__item-md-4.wt-grid__item-lg-3')\n",
    "    for i in range(len(items)):\n",
    "        try:\n",
    "            linkx=items[i].a.get('href')\n",
    "            r1 = requests.get(linkx)\n",
    "            soup1 = BeautifulSoup(r1.content,'lxml')\n",
    "            soup2=soup1.find(\"div\", attrs={\"class\":\"wt-display-flex-lg wt-flex-direction-column-md wt-flex-lg-3 wt-pl-md-4 wt-pr-md-4 wt-pl-lg-0 wt-pr-lg-5 wt-pl-xs-2 wt-pr-xs-2\"})\n",
    "            soup3=soup1.find(\"div\", attrs={\"id\":\"reviews\"})\n",
    "            salesx=soup2.find(\"span\",attrs={\"class\":\"wt-text-caption\"}).text\n",
    "            titlex=soup2.find(\"h1\",attrs={\"data-buy-box-listing-title\":\"true\"}).get_text().strip()\n",
    "            pricex=soup2.find(\"p\",attrs={\"class\":\"wt-text-title-03 wt-mr-xs-2\"}).get_text().strip()\n",
    "            starx=soup2.find(\"span\",attrs={\"class\":\"wt-screen-reader-only\"}).get_text().strip()\n",
    "            reviewx=soup3.find(\"h2\",attrs={\"class\":\"wt-mr-xs-2 wt-text-body-03\"}).get_text().strip()\n",
    "            temp = [titlex,linkx,pricex,salesx,starx,reviewx]\n",
    "            temp_df = pd.DataFrame([temp],columns=df.columns)\n",
    "            df = pd.concat([df,temp_df],ignore_index=True)\n",
    "        except Exception as e:\n",
    "            b=0\n",
    "    a= a + 1"
   ]
  },
  {
   "cell_type": "code",
   "execution_count": 141,
   "metadata": {},
   "outputs": [
    {
     "data": {
      "text/html": [
       "<div>\n",
       "<style scoped>\n",
       "    .dataframe tbody tr th:only-of-type {\n",
       "        vertical-align: middle;\n",
       "    }\n",
       "\n",
       "    .dataframe tbody tr th {\n",
       "        vertical-align: top;\n",
       "    }\n",
       "\n",
       "    .dataframe thead th {\n",
       "        text-align: right;\n",
       "    }\n",
       "</style>\n",
       "<table border=\"1\" class=\"dataframe\">\n",
       "  <thead>\n",
       "    <tr style=\"text-align: right;\">\n",
       "      <th></th>\n",
       "      <th>Title</th>\n",
       "      <th>Link</th>\n",
       "      <th>Price</th>\n",
       "      <th>Sales</th>\n",
       "      <th>Stars</th>\n",
       "      <th>Review</th>\n",
       "    </tr>\n",
       "  </thead>\n",
       "  <tbody>\n",
       "    <tr>\n",
       "      <th>0</th>\n",
       "      <td>The Joker 2019 Skull and Bones Sculpture Hand ...</td>\n",
       "      <td>https://www.etsy.com/listing/1055730258/the-jo...</td>\n",
       "      <td>$369.99</td>\n",
       "      <td>31 sales</td>\n",
       "      <td>5 out of 5 stars</td>\n",
       "      <td>12 shop reviews</td>\n",
       "    </tr>\n",
       "    <tr>\n",
       "      <th>1</th>\n",
       "      <td>The Joker, Black Veined Jasper Skull , Spider ...</td>\n",
       "      <td>https://www.etsy.com/listing/945660412/the-jok...</td>\n",
       "      <td>$124.67</td>\n",
       "      <td>202 sales</td>\n",
       "      <td>5 out of 5 stars</td>\n",
       "      <td>59 shop reviews</td>\n",
       "    </tr>\n",
       "    <tr>\n",
       "      <th>2</th>\n",
       "      <td>Bat Skull l Artist Birthday Gift l Digital Art...</td>\n",
       "      <td>https://www.etsy.com/listing/1107576255/bat-sk...</td>\n",
       "      <td>Price:\\n                            $29.52+</td>\n",
       "      <td>1,032 sales</td>\n",
       "      <td>4.5 out of 5 stars</td>\n",
       "      <td>135 shop reviews</td>\n",
       "    </tr>\n",
       "    <tr>\n",
       "      <th>3</th>\n",
       "      <td>Harley Quinn Batman Inspired Ruby &amp; White Swar...</td>\n",
       "      <td>https://www.etsy.com/listing/247386348/harley-...</td>\n",
       "      <td>$899.00+</td>\n",
       "      <td>303 sales</td>\n",
       "      <td>3.5 out of 5 stars</td>\n",
       "      <td>71 shop reviews</td>\n",
       "    </tr>\n",
       "    <tr>\n",
       "      <th>4</th>\n",
       "      <td>Men's Black &amp; White Diamond Pyramid  Black Rho...</td>\n",
       "      <td>https://www.etsy.com/listing/254785997/mens-bl...</td>\n",
       "      <td>$875.00+</td>\n",
       "      <td>303 sales</td>\n",
       "      <td>3.5 out of 5 stars</td>\n",
       "      <td>71 shop reviews</td>\n",
       "    </tr>\n",
       "  </tbody>\n",
       "</table>\n",
       "</div>"
      ],
      "text/plain": [
       "                                               Title  \\\n",
       "0  The Joker 2019 Skull and Bones Sculpture Hand ...   \n",
       "1  The Joker, Black Veined Jasper Skull , Spider ...   \n",
       "2  Bat Skull l Artist Birthday Gift l Digital Art...   \n",
       "3  Harley Quinn Batman Inspired Ruby & White Swar...   \n",
       "4  Men's Black & White Diamond Pyramid  Black Rho...   \n",
       "\n",
       "                                                Link  \\\n",
       "0  https://www.etsy.com/listing/1055730258/the-jo...   \n",
       "1  https://www.etsy.com/listing/945660412/the-jok...   \n",
       "2  https://www.etsy.com/listing/1107576255/bat-sk...   \n",
       "3  https://www.etsy.com/listing/247386348/harley-...   \n",
       "4  https://www.etsy.com/listing/254785997/mens-bl...   \n",
       "\n",
       "                                         Price        Sales  \\\n",
       "0                                      $369.99     31 sales   \n",
       "1                                      $124.67    202 sales   \n",
       "2  Price:\\n                            $29.52+  1,032 sales   \n",
       "3                                     $899.00+    303 sales   \n",
       "4                                     $875.00+    303 sales   \n",
       "\n",
       "                Stars            Review  \n",
       "0    5 out of 5 stars   12 shop reviews  \n",
       "1    5 out of 5 stars   59 shop reviews  \n",
       "2  4.5 out of 5 stars  135 shop reviews  \n",
       "3  3.5 out of 5 stars   71 shop reviews  \n",
       "4  3.5 out of 5 stars   71 shop reviews  "
      ]
     },
     "execution_count": 141,
     "metadata": {},
     "output_type": "execute_result"
    }
   ],
   "source": [
    "df.head(5)"
   ]
  },
  {
   "cell_type": "code",
   "execution_count": 142,
   "metadata": {},
   "outputs": [
    {
     "data": {
      "text/plain": [
       "(458, 6)"
      ]
     },
     "execution_count": 142,
     "metadata": {},
     "output_type": "execute_result"
    }
   ],
   "source": [
    "df.shape"
   ]
  },
  {
   "cell_type": "code",
   "execution_count": 143,
   "metadata": {},
   "outputs": [
    {
     "data": {
      "text/plain": [
       "Title     0\n",
       "Link      0\n",
       "Price     0\n",
       "Sales     0\n",
       "Stars     0\n",
       "Review    0\n",
       "dtype: int64"
      ]
     },
     "execution_count": 143,
     "metadata": {},
     "output_type": "execute_result"
    }
   ],
   "source": [
    "df.isnull().sum()"
   ]
  },
  {
   "cell_type": "code",
   "execution_count": 144,
   "metadata": {},
   "outputs": [
    {
     "data": {
      "text/plain": [
       "69"
      ]
     },
     "execution_count": 144,
     "metadata": {},
     "output_type": "execute_result"
    }
   ],
   "source": [
    "df['Title'].duplicated().sum()"
   ]
  },
  {
   "cell_type": "code",
   "execution_count": 145,
   "metadata": {},
   "outputs": [],
   "source": [
    "import numpy as np\n",
    "etsy=df"
   ]
  },
  {
   "cell_type": "code",
   "execution_count": 146,
   "metadata": {},
   "outputs": [],
   "source": [
    "etsy['Price'] = etsy['Price'].str.strip()"
   ]
  },
  {
   "cell_type": "code",
   "execution_count": 147,
   "metadata": {},
   "outputs": [],
   "source": [
    "etsy['Price'] = etsy['Price'].str.replace('Price:\\n ', '')"
   ]
  },
  {
   "cell_type": "code",
   "execution_count": 148,
   "metadata": {},
   "outputs": [],
   "source": [
    "etsy['Price'] = etsy['Price'].str.replace('+', '')"
   ]
  },
  {
   "cell_type": "code",
   "execution_count": 149,
   "metadata": {},
   "outputs": [],
   "source": [
    "etsy['Price'] = etsy['Price'].str.replace('$', '')"
   ]
  },
  {
   "cell_type": "code",
   "execution_count": 150,
   "metadata": {},
   "outputs": [],
   "source": [
    "etsy['Price'] = etsy['Price'].astype(float)"
   ]
  },
  {
   "cell_type": "code",
   "execution_count": 151,
   "metadata": {},
   "outputs": [
    {
     "data": {
      "text/html": [
       "<div>\n",
       "<style scoped>\n",
       "    .dataframe tbody tr th:only-of-type {\n",
       "        vertical-align: middle;\n",
       "    }\n",
       "\n",
       "    .dataframe tbody tr th {\n",
       "        vertical-align: top;\n",
       "    }\n",
       "\n",
       "    .dataframe thead th {\n",
       "        text-align: right;\n",
       "    }\n",
       "</style>\n",
       "<table border=\"1\" class=\"dataframe\">\n",
       "  <thead>\n",
       "    <tr style=\"text-align: right;\">\n",
       "      <th></th>\n",
       "      <th>Title</th>\n",
       "      <th>Link</th>\n",
       "      <th>Price</th>\n",
       "      <th>Sales</th>\n",
       "      <th>Stars</th>\n",
       "      <th>Review</th>\n",
       "    </tr>\n",
       "  </thead>\n",
       "  <tbody>\n",
       "    <tr>\n",
       "      <th>0</th>\n",
       "      <td>The Joker 2019 Skull and Bones Sculpture Hand ...</td>\n",
       "      <td>https://www.etsy.com/listing/1055730258/the-jo...</td>\n",
       "      <td>369.99</td>\n",
       "      <td>31 sales</td>\n",
       "      <td>5 out of 5 stars</td>\n",
       "      <td>12 shop reviews</td>\n",
       "    </tr>\n",
       "    <tr>\n",
       "      <th>1</th>\n",
       "      <td>The Joker, Black Veined Jasper Skull , Spider ...</td>\n",
       "      <td>https://www.etsy.com/listing/945660412/the-jok...</td>\n",
       "      <td>124.67</td>\n",
       "      <td>202 sales</td>\n",
       "      <td>5 out of 5 stars</td>\n",
       "      <td>59 shop reviews</td>\n",
       "    </tr>\n",
       "    <tr>\n",
       "      <th>2</th>\n",
       "      <td>Bat Skull l Artist Birthday Gift l Digital Art...</td>\n",
       "      <td>https://www.etsy.com/listing/1107576255/bat-sk...</td>\n",
       "      <td>29.52</td>\n",
       "      <td>1,032 sales</td>\n",
       "      <td>4.5 out of 5 stars</td>\n",
       "      <td>135 shop reviews</td>\n",
       "    </tr>\n",
       "    <tr>\n",
       "      <th>3</th>\n",
       "      <td>Harley Quinn Batman Inspired Ruby &amp; White Swar...</td>\n",
       "      <td>https://www.etsy.com/listing/247386348/harley-...</td>\n",
       "      <td>899.00</td>\n",
       "      <td>303 sales</td>\n",
       "      <td>3.5 out of 5 stars</td>\n",
       "      <td>71 shop reviews</td>\n",
       "    </tr>\n",
       "    <tr>\n",
       "      <th>4</th>\n",
       "      <td>Men's Black &amp; White Diamond Pyramid  Black Rho...</td>\n",
       "      <td>https://www.etsy.com/listing/254785997/mens-bl...</td>\n",
       "      <td>875.00</td>\n",
       "      <td>303 sales</td>\n",
       "      <td>3.5 out of 5 stars</td>\n",
       "      <td>71 shop reviews</td>\n",
       "    </tr>\n",
       "  </tbody>\n",
       "</table>\n",
       "</div>"
      ],
      "text/plain": [
       "                                               Title  \\\n",
       "0  The Joker 2019 Skull and Bones Sculpture Hand ...   \n",
       "1  The Joker, Black Veined Jasper Skull , Spider ...   \n",
       "2  Bat Skull l Artist Birthday Gift l Digital Art...   \n",
       "3  Harley Quinn Batman Inspired Ruby & White Swar...   \n",
       "4  Men's Black & White Diamond Pyramid  Black Rho...   \n",
       "\n",
       "                                                Link   Price        Sales  \\\n",
       "0  https://www.etsy.com/listing/1055730258/the-jo...  369.99     31 sales   \n",
       "1  https://www.etsy.com/listing/945660412/the-jok...  124.67    202 sales   \n",
       "2  https://www.etsy.com/listing/1107576255/bat-sk...   29.52  1,032 sales   \n",
       "3  https://www.etsy.com/listing/247386348/harley-...  899.00    303 sales   \n",
       "4  https://www.etsy.com/listing/254785997/mens-bl...  875.00    303 sales   \n",
       "\n",
       "                Stars            Review  \n",
       "0    5 out of 5 stars   12 shop reviews  \n",
       "1    5 out of 5 stars   59 shop reviews  \n",
       "2  4.5 out of 5 stars  135 shop reviews  \n",
       "3  3.5 out of 5 stars   71 shop reviews  \n",
       "4  3.5 out of 5 stars   71 shop reviews  "
      ]
     },
     "execution_count": 151,
     "metadata": {},
     "output_type": "execute_result"
    }
   ],
   "source": [
    "etsy.head(5)"
   ]
  },
  {
   "cell_type": "code",
   "execution_count": 152,
   "metadata": {},
   "outputs": [],
   "source": [
    "etsy['Sales']=etsy['Sales'].str.replace(\" sales\",\"\")\n",
    "etsy['Sales']=etsy['Sales'].str.replace(\" sale\",\"\")\n",
    "etsy['Sales'] = etsy['Sales'].str.replace(',', '').astype(float)"
   ]
  },
  {
   "cell_type": "code",
   "execution_count": 153,
   "metadata": {},
   "outputs": [
    {
     "name": "stdout",
     "output_type": "stream",
     "text": [
      "<class 'pandas.core.frame.DataFrame'>\n",
      "RangeIndex: 458 entries, 0 to 457\n",
      "Data columns (total 6 columns):\n",
      " #   Column  Non-Null Count  Dtype  \n",
      "---  ------  --------------  -----  \n",
      " 0   Title   458 non-null    object \n",
      " 1   Link    458 non-null    object \n",
      " 2   Price   458 non-null    float64\n",
      " 3   Sales   458 non-null    float64\n",
      " 4   Stars   458 non-null    object \n",
      " 5   Review  458 non-null    object \n",
      "dtypes: float64(2), object(4)\n",
      "memory usage: 21.6+ KB\n"
     ]
    }
   ],
   "source": [
    "etsy.info()"
   ]
  },
  {
   "cell_type": "code",
   "execution_count": 154,
   "metadata": {},
   "outputs": [
    {
     "data": {
      "text/html": [
       "<div>\n",
       "<style scoped>\n",
       "    .dataframe tbody tr th:only-of-type {\n",
       "        vertical-align: middle;\n",
       "    }\n",
       "\n",
       "    .dataframe tbody tr th {\n",
       "        vertical-align: top;\n",
       "    }\n",
       "\n",
       "    .dataframe thead th {\n",
       "        text-align: right;\n",
       "    }\n",
       "</style>\n",
       "<table border=\"1\" class=\"dataframe\">\n",
       "  <thead>\n",
       "    <tr style=\"text-align: right;\">\n",
       "      <th></th>\n",
       "      <th>Title</th>\n",
       "      <th>Link</th>\n",
       "      <th>Price</th>\n",
       "      <th>Sales</th>\n",
       "      <th>Stars</th>\n",
       "      <th>Review</th>\n",
       "    </tr>\n",
       "  </thead>\n",
       "  <tbody>\n",
       "    <tr>\n",
       "      <th>3</th>\n",
       "      <td>Harley Quinn Batman Inspired Ruby &amp; White Swar...</td>\n",
       "      <td>https://www.etsy.com/listing/247386348/harley-...</td>\n",
       "      <td>899.00</td>\n",
       "      <td>303.0</td>\n",
       "      <td>3.5 out of 5 stars</td>\n",
       "      <td>71 shop reviews</td>\n",
       "    </tr>\n",
       "    <tr>\n",
       "      <th>4</th>\n",
       "      <td>Men's Black &amp; White Diamond Pyramid  Black Rho...</td>\n",
       "      <td>https://www.etsy.com/listing/254785997/mens-bl...</td>\n",
       "      <td>875.00</td>\n",
       "      <td>303.0</td>\n",
       "      <td>3.5 out of 5 stars</td>\n",
       "      <td>71 shop reviews</td>\n",
       "    </tr>\n",
       "    <tr>\n",
       "      <th>5</th>\n",
       "      <td>Men's Black &amp; White Swarovski Diamonds on Blac...</td>\n",
       "      <td>https://www.etsy.com/listing/252323787/mens-bl...</td>\n",
       "      <td>850.00</td>\n",
       "      <td>303.0</td>\n",
       "      <td>3.5 out of 5 stars</td>\n",
       "      <td>71 shop reviews</td>\n",
       "    </tr>\n",
       "    <tr>\n",
       "      <th>6</th>\n",
       "      <td>Harley  Inspired Ruby &amp; White Swarovski Quinn ...</td>\n",
       "      <td>https://www.etsy.com/listing/249696577/harley-...</td>\n",
       "      <td>799.00</td>\n",
       "      <td>303.0</td>\n",
       "      <td>3.5 out of 5 stars</td>\n",
       "      <td>71 shop reviews</td>\n",
       "    </tr>\n",
       "    <tr>\n",
       "      <th>7</th>\n",
       "      <td>Harley Quinn Inspired Ruby &amp; White Swarovski o...</td>\n",
       "      <td>https://www.etsy.com/listing/258279135/harley-...</td>\n",
       "      <td>699.00</td>\n",
       "      <td>303.0</td>\n",
       "      <td>3.5 out of 5 stars</td>\n",
       "      <td>71 shop reviews</td>\n",
       "    </tr>\n",
       "    <tr>\n",
       "      <th>...</th>\n",
       "      <td>...</td>\n",
       "      <td>...</td>\n",
       "      <td>...</td>\n",
       "      <td>...</td>\n",
       "      <td>...</td>\n",
       "      <td>...</td>\n",
       "    </tr>\n",
       "    <tr>\n",
       "      <th>452</th>\n",
       "      <td>2 Pcs 7x11mm Gunmetal Batman Charms, Men Brace...</td>\n",
       "      <td>https://www.etsy.com/listing/485580135/2-pcs-7...</td>\n",
       "      <td>1.20</td>\n",
       "      <td>891736.0</td>\n",
       "      <td>5 out of 5 stars</td>\n",
       "      <td>61,760 reviews</td>\n",
       "    </tr>\n",
       "    <tr>\n",
       "      <th>453</th>\n",
       "      <td>7x11mm Antique Bronze Batman Charms, Men Brace...</td>\n",
       "      <td>https://www.etsy.com/listing/484408797/7x11mm-...</td>\n",
       "      <td>1.20</td>\n",
       "      <td>891736.0</td>\n",
       "      <td>5 out of 5 stars</td>\n",
       "      <td>61,761 reviews</td>\n",
       "    </tr>\n",
       "    <tr>\n",
       "      <th>455</th>\n",
       "      <td>Place cards with skull, Wedding place cards, C...</td>\n",
       "      <td>https://www.etsy.com/listing/1079167977/place-...</td>\n",
       "      <td>1.17</td>\n",
       "      <td>950.0</td>\n",
       "      <td>5 out of 5 stars</td>\n",
       "      <td>82 shop reviews</td>\n",
       "    </tr>\n",
       "    <tr>\n",
       "      <th>456</th>\n",
       "      <td>Unique Postcards, Halloween, skulls, buddha, v...</td>\n",
       "      <td>https://www.etsy.com/listing/1099285453/unique...</td>\n",
       "      <td>1.16</td>\n",
       "      <td>213.0</td>\n",
       "      <td>5 out of 5 stars</td>\n",
       "      <td>66 shop reviews</td>\n",
       "    </tr>\n",
       "    <tr>\n",
       "      <th>457</th>\n",
       "      <td>Unfinished Wooden Skull and Crossbones for Cra...</td>\n",
       "      <td>https://www.etsy.com/listing/1075399475/unfini...</td>\n",
       "      <td>0.50</td>\n",
       "      <td>341.0</td>\n",
       "      <td>4.5 out of 5 stars</td>\n",
       "      <td>61 shop reviews</td>\n",
       "    </tr>\n",
       "  </tbody>\n",
       "</table>\n",
       "<p>458 rows × 6 columns</p>\n",
       "</div>"
      ],
      "text/plain": [
       "                                                 Title  \\\n",
       "3    Harley Quinn Batman Inspired Ruby & White Swar...   \n",
       "4    Men's Black & White Diamond Pyramid  Black Rho...   \n",
       "5    Men's Black & White Swarovski Diamonds on Blac...   \n",
       "6    Harley  Inspired Ruby & White Swarovski Quinn ...   \n",
       "7    Harley Quinn Inspired Ruby & White Swarovski o...   \n",
       "..                                                 ...   \n",
       "452  2 Pcs 7x11mm Gunmetal Batman Charms, Men Brace...   \n",
       "453  7x11mm Antique Bronze Batman Charms, Men Brace...   \n",
       "455  Place cards with skull, Wedding place cards, C...   \n",
       "456  Unique Postcards, Halloween, skulls, buddha, v...   \n",
       "457  Unfinished Wooden Skull and Crossbones for Cra...   \n",
       "\n",
       "                                                  Link   Price     Sales  \\\n",
       "3    https://www.etsy.com/listing/247386348/harley-...  899.00     303.0   \n",
       "4    https://www.etsy.com/listing/254785997/mens-bl...  875.00     303.0   \n",
       "5    https://www.etsy.com/listing/252323787/mens-bl...  850.00     303.0   \n",
       "6    https://www.etsy.com/listing/249696577/harley-...  799.00     303.0   \n",
       "7    https://www.etsy.com/listing/258279135/harley-...  699.00     303.0   \n",
       "..                                                 ...     ...       ...   \n",
       "452  https://www.etsy.com/listing/485580135/2-pcs-7...    1.20  891736.0   \n",
       "453  https://www.etsy.com/listing/484408797/7x11mm-...    1.20  891736.0   \n",
       "455  https://www.etsy.com/listing/1079167977/place-...    1.17     950.0   \n",
       "456  https://www.etsy.com/listing/1099285453/unique...    1.16     213.0   \n",
       "457  https://www.etsy.com/listing/1075399475/unfini...    0.50     341.0   \n",
       "\n",
       "                  Stars           Review  \n",
       "3    3.5 out of 5 stars  71 shop reviews  \n",
       "4    3.5 out of 5 stars  71 shop reviews  \n",
       "5    3.5 out of 5 stars  71 shop reviews  \n",
       "6    3.5 out of 5 stars  71 shop reviews  \n",
       "7    3.5 out of 5 stars  71 shop reviews  \n",
       "..                  ...              ...  \n",
       "452    5 out of 5 stars   61,760 reviews  \n",
       "453    5 out of 5 stars   61,761 reviews  \n",
       "455    5 out of 5 stars  82 shop reviews  \n",
       "456    5 out of 5 stars  66 shop reviews  \n",
       "457  4.5 out of 5 stars  61 shop reviews  \n",
       "\n",
       "[458 rows x 6 columns]"
      ]
     },
     "execution_count": 154,
     "metadata": {},
     "output_type": "execute_result"
    }
   ],
   "source": [
    "etsy.sort_values(['Price'],ascending=False)"
   ]
  },
  {
   "cell_type": "code",
   "execution_count": 155,
   "metadata": {},
   "outputs": [
    {
     "data": {
      "text/plain": [
       "0"
      ]
     },
     "execution_count": 155,
     "metadata": {},
     "output_type": "execute_result"
    }
   ],
   "source": [
    "# dropping duplicate values\n",
    "etsy.duplicated().sum()\n",
    "#etsy.drop_duplicates(keep=False,inplace=True)"
   ]
  },
  {
   "cell_type": "code",
   "execution_count": 156,
   "metadata": {},
   "outputs": [],
   "source": [
    "etsy.to_csv(\"D:/Web Scrapping/Python/best_skull.csv\", encoding=\"UTF-8\")"
   ]
  },
  {
   "cell_type": "code",
   "execution_count": null,
   "metadata": {},
   "outputs": [],
   "source": [
    "########################################## DENEME"
   ]
  },
  {
   "cell_type": "code",
   "execution_count": 112,
   "metadata": {},
   "outputs": [],
   "source": [
    "#her sayfada olmayan tag için denemeler ama olmadı\n",
    "def retryingFind(param):\n",
    "    result = \"\"\n",
    "    attempts = 0\n",
    "    while(attempts < 5):\n",
    "        try:\n",
    "            result = WebDriverWait(driver, 5).until(param)\n",
    "            break\n",
    "        except Exception:\n",
    "            print(\"Unable to get!!\")\n",
    "        attemps += 1\n",
    "        time.sleep(10)\n",
    "    return result"
   ]
  },
  {
   "cell_type": "code",
   "execution_count": 142,
   "metadata": {},
   "outputs": [
    {
     "data": {
      "text/html": [
       "<div>\n",
       "<style scoped>\n",
       "    .dataframe tbody tr th:only-of-type {\n",
       "        vertical-align: middle;\n",
       "    }\n",
       "\n",
       "    .dataframe tbody tr th {\n",
       "        vertical-align: top;\n",
       "    }\n",
       "\n",
       "    .dataframe thead th {\n",
       "        text-align: right;\n",
       "    }\n",
       "</style>\n",
       "<table border=\"1\" class=\"dataframe\">\n",
       "  <thead>\n",
       "    <tr style=\"text-align: right;\">\n",
       "      <th></th>\n",
       "      <th>Price</th>\n",
       "      <th>Title</th>\n",
       "      <th>Sales</th>\n",
       "    </tr>\n",
       "  </thead>\n",
       "  <tbody>\n",
       "  </tbody>\n",
       "</table>\n",
       "</div>"
      ],
      "text/plain": [
       "Empty DataFrame\n",
       "Columns: [Price, Title, Sales]\n",
       "Index: []"
      ]
     },
     "execution_count": 142,
     "metadata": {},
     "output_type": "execute_result"
    }
   ],
   "source": [
    "dfx = pd.DataFrame(columns=[\"Price\",\"Title\",\"Sales\"])\n",
    "dfx"
   ]
  },
  {
   "cell_type": "code",
   "execution_count": 145,
   "metadata": {},
   "outputs": [
    {
     "name": "stderr",
     "output_type": "stream",
     "text": [
      "<ipython-input-145-c663a4397de1>:3: DeprecationWarning: find_elements_by_* commands are deprecated. Please use find_elements() instead\n",
      "  items = driver.find_elements_by_class_name(\"v2-listing-card__info\")\n"
     ]
    },
    {
     "ename": "NoSuchElementException",
     "evalue": "Message: no such element: Unable to locate element: {\"method\":\"css selector\",\"selector\":\".wt-text-body-01\"}\n  (Session info: chrome=97.0.4692.99)\nStacktrace:\nBacktrace:\n\tOrdinal0 [0x0082FDC3+2555331]\n\tOrdinal0 [0x007C77F1+2127857]\n\tOrdinal0 [0x006C2E08+1060360]\n\tOrdinal0 [0x006EE49E+1238174]\n\tOrdinal0 [0x006EE69B+1238683]\n\tOrdinal0 [0x006E4A01+1198593]\n\tOrdinal0 [0x00707B54+1342292]\n\tOrdinal0 [0x006E4984+1198468]\n\tOrdinal0 [0x00707C14+1342484]\n\tOrdinal0 [0x007175FA+1406458]\n\tOrdinal0 [0x00707976+1341814]\n\tOrdinal0 [0x006E36B6+1193654]\n\tOrdinal0 [0x006E4546+1197382]\n\tGetHandleVerifier [0x009C9622+1619522]\n\tGetHandleVerifier [0x00A7882C+2336844]\n\tGetHandleVerifier [0x008C23E1+541697]\n\tGetHandleVerifier [0x008C1443+537699]\n\tOrdinal0 [0x007CD18E+2150798]\n\tOrdinal0 [0x007D1518+2168088]\n\tOrdinal0 [0x007D1660+2168416]\n\tOrdinal0 [0x007DB330+2208560]\n\tBaseThreadInitThunk [0x7682FA29+25]\n\tRtlGetAppContainerNamedObjectPath [0x77A47A9E+286]\n\tRtlGetAppContainerNamedObjectPath [0x77A47A6E+238]\n",
     "output_type": "error",
     "traceback": [
      "\u001b[1;31m---------------------------------------------------------------------------\u001b[0m",
      "\u001b[1;31mNoSuchElementException\u001b[0m                    Traceback (most recent call last)",
      "\u001b[1;32m<ipython-input-145-c663a4397de1>\u001b[0m in \u001b[0;36m<module>\u001b[1;34m\u001b[0m\n\u001b[0;32m     10\u001b[0m         \u001b[0mprice\u001b[0m \u001b[1;33m=\u001b[0m \u001b[0mitems\u001b[0m\u001b[1;33m[\u001b[0m\u001b[0mi\u001b[0m\u001b[1;33m]\u001b[0m\u001b[1;33m.\u001b[0m\u001b[0mfind_element_by_class_name\u001b[0m\u001b[1;33m(\u001b[0m\u001b[1;34m\"currency-value\"\u001b[0m\u001b[1;33m)\u001b[0m\u001b[1;33m.\u001b[0m\u001b[0mtext\u001b[0m\u001b[1;33m\u001b[0m\u001b[1;33m\u001b[0m\u001b[0m\n\u001b[0;32m     11\u001b[0m         \u001b[0mtitle\u001b[0m \u001b[1;33m=\u001b[0m \u001b[0mitems\u001b[0m\u001b[1;33m[\u001b[0m\u001b[0mi\u001b[0m\u001b[1;33m]\u001b[0m\u001b[1;33m.\u001b[0m\u001b[0mfind_element_by_class_name\u001b[0m\u001b[1;33m(\u001b[0m\u001b[1;34m\"wt-text-caption.v2-listing-card__title.wt-text-truncate.wt-mb-xs-0\"\u001b[0m\u001b[1;33m)\u001b[0m\u001b[1;33m.\u001b[0m\u001b[0mtext\u001b[0m\u001b[1;33m\u001b[0m\u001b[1;33m\u001b[0m\u001b[0m\n\u001b[1;32m---> 12\u001b[1;33m         \u001b[0msales\u001b[0m \u001b[1;33m=\u001b[0m \u001b[0mitems\u001b[0m\u001b[1;33m[\u001b[0m\u001b[0mi\u001b[0m\u001b[1;33m]\u001b[0m\u001b[1;33m.\u001b[0m\u001b[0mfind_element_by_class_name\u001b[0m\u001b[1;33m(\u001b[0m\u001b[1;34m\"wt-text-body-01\"\u001b[0m\u001b[1;33m)\u001b[0m\u001b[1;33m.\u001b[0m\u001b[0mtext\u001b[0m\u001b[1;33m\u001b[0m\u001b[1;33m\u001b[0m\u001b[0m\n\u001b[0m\u001b[0;32m     13\u001b[0m         \u001b[1;31m#fiyat = items[i].find_element_by_class_name(\"searchResultsPriceValue\").find_element_by_tag_name(\"div\").text\u001b[0m\u001b[1;33m\u001b[0m\u001b[1;33m\u001b[0m\u001b[1;33m\u001b[0m\u001b[0m\n\u001b[0;32m     14\u001b[0m         \u001b[1;31m#if( items[i].find_element_by_class_name(\"wt-text-body-01.wt-nudge-b-1.wt-text-gray.wt-display-inline-block.wt-nudge-l-3.wt-pr-xs-1\").text is None):\u001b[0m\u001b[1;33m\u001b[0m\u001b[1;33m\u001b[0m\u001b[1;33m\u001b[0m\u001b[0m\n",
      "\u001b[1;32m~\\anaconda3\\lib\\site-packages\\selenium\\webdriver\\remote\\webelement.py\u001b[0m in \u001b[0;36mfind_element_by_class_name\u001b[1;34m(self, name)\u001b[0m\n\u001b[0;32m    445\u001b[0m         \"\"\"\n\u001b[0;32m    446\u001b[0m         \u001b[0mwarnings\u001b[0m\u001b[1;33m.\u001b[0m\u001b[0mwarn\u001b[0m\u001b[1;33m(\u001b[0m\u001b[1;34m\"find_element_by_* commands are deprecated. Please use find_element() instead\"\u001b[0m\u001b[1;33m)\u001b[0m\u001b[1;33m\u001b[0m\u001b[1;33m\u001b[0m\u001b[0m\n\u001b[1;32m--> 447\u001b[1;33m         \u001b[1;32mreturn\u001b[0m \u001b[0mself\u001b[0m\u001b[1;33m.\u001b[0m\u001b[0mfind_element\u001b[0m\u001b[1;33m(\u001b[0m\u001b[0mby\u001b[0m\u001b[1;33m=\u001b[0m\u001b[0mBy\u001b[0m\u001b[1;33m.\u001b[0m\u001b[0mCLASS_NAME\u001b[0m\u001b[1;33m,\u001b[0m \u001b[0mvalue\u001b[0m\u001b[1;33m=\u001b[0m\u001b[0mname\u001b[0m\u001b[1;33m)\u001b[0m\u001b[1;33m\u001b[0m\u001b[1;33m\u001b[0m\u001b[0m\n\u001b[0m\u001b[0;32m    448\u001b[0m \u001b[1;33m\u001b[0m\u001b[0m\n\u001b[0;32m    449\u001b[0m     \u001b[1;32mdef\u001b[0m \u001b[0mfind_elements_by_class_name\u001b[0m\u001b[1;33m(\u001b[0m\u001b[0mself\u001b[0m\u001b[1;33m,\u001b[0m \u001b[0mname\u001b[0m\u001b[1;33m)\u001b[0m\u001b[1;33m:\u001b[0m\u001b[1;33m\u001b[0m\u001b[1;33m\u001b[0m\u001b[0m\n",
      "\u001b[1;32m~\\anaconda3\\lib\\site-packages\\selenium\\webdriver\\remote\\webelement.py\u001b[0m in \u001b[0;36mfind_element\u001b[1;34m(self, by, value)\u001b[0m\n\u001b[0;32m    733\u001b[0m             \u001b[0mvalue\u001b[0m \u001b[1;33m=\u001b[0m \u001b[1;34m'[name=\"%s\"]'\u001b[0m \u001b[1;33m%\u001b[0m \u001b[0mvalue\u001b[0m\u001b[1;33m\u001b[0m\u001b[1;33m\u001b[0m\u001b[0m\n\u001b[0;32m    734\u001b[0m \u001b[1;33m\u001b[0m\u001b[0m\n\u001b[1;32m--> 735\u001b[1;33m         return self._execute(Command.FIND_CHILD_ELEMENT,\n\u001b[0m\u001b[0;32m    736\u001b[0m                              {\"using\": by, \"value\": value})['value']\n\u001b[0;32m    737\u001b[0m \u001b[1;33m\u001b[0m\u001b[0m\n",
      "\u001b[1;32m~\\anaconda3\\lib\\site-packages\\selenium\\webdriver\\remote\\webelement.py\u001b[0m in \u001b[0;36m_execute\u001b[1;34m(self, command, params)\u001b[0m\n\u001b[0;32m    708\u001b[0m             \u001b[0mparams\u001b[0m \u001b[1;33m=\u001b[0m \u001b[1;33m{\u001b[0m\u001b[1;33m}\u001b[0m\u001b[1;33m\u001b[0m\u001b[1;33m\u001b[0m\u001b[0m\n\u001b[0;32m    709\u001b[0m         \u001b[0mparams\u001b[0m\u001b[1;33m[\u001b[0m\u001b[1;34m'id'\u001b[0m\u001b[1;33m]\u001b[0m \u001b[1;33m=\u001b[0m \u001b[0mself\u001b[0m\u001b[1;33m.\u001b[0m\u001b[0m_id\u001b[0m\u001b[1;33m\u001b[0m\u001b[1;33m\u001b[0m\u001b[0m\n\u001b[1;32m--> 710\u001b[1;33m         \u001b[1;32mreturn\u001b[0m \u001b[0mself\u001b[0m\u001b[1;33m.\u001b[0m\u001b[0m_parent\u001b[0m\u001b[1;33m.\u001b[0m\u001b[0mexecute\u001b[0m\u001b[1;33m(\u001b[0m\u001b[0mcommand\u001b[0m\u001b[1;33m,\u001b[0m \u001b[0mparams\u001b[0m\u001b[1;33m)\u001b[0m\u001b[1;33m\u001b[0m\u001b[1;33m\u001b[0m\u001b[0m\n\u001b[0m\u001b[0;32m    711\u001b[0m \u001b[1;33m\u001b[0m\u001b[0m\n\u001b[0;32m    712\u001b[0m     \u001b[1;32mdef\u001b[0m \u001b[0mfind_element\u001b[0m\u001b[1;33m(\u001b[0m\u001b[0mself\u001b[0m\u001b[1;33m,\u001b[0m \u001b[0mby\u001b[0m\u001b[1;33m=\u001b[0m\u001b[0mBy\u001b[0m\u001b[1;33m.\u001b[0m\u001b[0mID\u001b[0m\u001b[1;33m,\u001b[0m \u001b[0mvalue\u001b[0m\u001b[1;33m=\u001b[0m\u001b[1;32mNone\u001b[0m\u001b[1;33m)\u001b[0m\u001b[1;33m:\u001b[0m\u001b[1;33m\u001b[0m\u001b[1;33m\u001b[0m\u001b[0m\n",
      "\u001b[1;32m~\\anaconda3\\lib\\site-packages\\selenium\\webdriver\\remote\\webdriver.py\u001b[0m in \u001b[0;36mexecute\u001b[1;34m(self, driver_command, params)\u001b[0m\n\u001b[0;32m    422\u001b[0m         \u001b[0mresponse\u001b[0m \u001b[1;33m=\u001b[0m \u001b[0mself\u001b[0m\u001b[1;33m.\u001b[0m\u001b[0mcommand_executor\u001b[0m\u001b[1;33m.\u001b[0m\u001b[0mexecute\u001b[0m\u001b[1;33m(\u001b[0m\u001b[0mdriver_command\u001b[0m\u001b[1;33m,\u001b[0m \u001b[0mparams\u001b[0m\u001b[1;33m)\u001b[0m\u001b[1;33m\u001b[0m\u001b[1;33m\u001b[0m\u001b[0m\n\u001b[0;32m    423\u001b[0m         \u001b[1;32mif\u001b[0m \u001b[0mresponse\u001b[0m\u001b[1;33m:\u001b[0m\u001b[1;33m\u001b[0m\u001b[1;33m\u001b[0m\u001b[0m\n\u001b[1;32m--> 424\u001b[1;33m             \u001b[0mself\u001b[0m\u001b[1;33m.\u001b[0m\u001b[0merror_handler\u001b[0m\u001b[1;33m.\u001b[0m\u001b[0mcheck_response\u001b[0m\u001b[1;33m(\u001b[0m\u001b[0mresponse\u001b[0m\u001b[1;33m)\u001b[0m\u001b[1;33m\u001b[0m\u001b[1;33m\u001b[0m\u001b[0m\n\u001b[0m\u001b[0;32m    425\u001b[0m             response['value'] = self._unwrap_value(\n\u001b[0;32m    426\u001b[0m                 response.get('value', None))\n",
      "\u001b[1;32m~\\anaconda3\\lib\\site-packages\\selenium\\webdriver\\remote\\errorhandler.py\u001b[0m in \u001b[0;36mcheck_response\u001b[1;34m(self, response)\u001b[0m\n\u001b[0;32m    245\u001b[0m                 \u001b[0malert_text\u001b[0m \u001b[1;33m=\u001b[0m \u001b[0mvalue\u001b[0m\u001b[1;33m[\u001b[0m\u001b[1;34m'alert'\u001b[0m\u001b[1;33m]\u001b[0m\u001b[1;33m.\u001b[0m\u001b[0mget\u001b[0m\u001b[1;33m(\u001b[0m\u001b[1;34m'text'\u001b[0m\u001b[1;33m)\u001b[0m\u001b[1;33m\u001b[0m\u001b[1;33m\u001b[0m\u001b[0m\n\u001b[0;32m    246\u001b[0m             \u001b[1;32mraise\u001b[0m \u001b[0mexception_class\u001b[0m\u001b[1;33m(\u001b[0m\u001b[0mmessage\u001b[0m\u001b[1;33m,\u001b[0m \u001b[0mscreen\u001b[0m\u001b[1;33m,\u001b[0m \u001b[0mstacktrace\u001b[0m\u001b[1;33m,\u001b[0m \u001b[0malert_text\u001b[0m\u001b[1;33m)\u001b[0m  \u001b[1;31m# type: ignore[call-arg]  # mypy is not smart enough here\u001b[0m\u001b[1;33m\u001b[0m\u001b[1;33m\u001b[0m\u001b[0m\n\u001b[1;32m--> 247\u001b[1;33m         \u001b[1;32mraise\u001b[0m \u001b[0mexception_class\u001b[0m\u001b[1;33m(\u001b[0m\u001b[0mmessage\u001b[0m\u001b[1;33m,\u001b[0m \u001b[0mscreen\u001b[0m\u001b[1;33m,\u001b[0m \u001b[0mstacktrace\u001b[0m\u001b[1;33m)\u001b[0m\u001b[1;33m\u001b[0m\u001b[1;33m\u001b[0m\u001b[0m\n\u001b[0m\u001b[0;32m    248\u001b[0m \u001b[1;33m\u001b[0m\u001b[0m\n\u001b[0;32m    249\u001b[0m     \u001b[1;32mdef\u001b[0m \u001b[0m_value_or_default\u001b[0m\u001b[1;33m(\u001b[0m\u001b[0mself\u001b[0m\u001b[1;33m,\u001b[0m \u001b[0mobj\u001b[0m\u001b[1;33m:\u001b[0m \u001b[0mMapping\u001b[0m\u001b[1;33m[\u001b[0m\u001b[0m_KT\u001b[0m\u001b[1;33m,\u001b[0m \u001b[0m_VT\u001b[0m\u001b[1;33m]\u001b[0m\u001b[1;33m,\u001b[0m \u001b[0mkey\u001b[0m\u001b[1;33m:\u001b[0m \u001b[0m_KT\u001b[0m\u001b[1;33m,\u001b[0m \u001b[0mdefault\u001b[0m\u001b[1;33m:\u001b[0m \u001b[0m_VT\u001b[0m\u001b[1;33m)\u001b[0m \u001b[1;33m->\u001b[0m \u001b[0m_VT\u001b[0m\u001b[1;33m:\u001b[0m\u001b[1;33m\u001b[0m\u001b[1;33m\u001b[0m\u001b[0m\n",
      "\u001b[1;31mNoSuchElementException\u001b[0m: Message: no such element: Unable to locate element: {\"method\":\"css selector\",\"selector\":\".wt-text-body-01\"}\n  (Session info: chrome=97.0.4692.99)\nStacktrace:\nBacktrace:\n\tOrdinal0 [0x0082FDC3+2555331]\n\tOrdinal0 [0x007C77F1+2127857]\n\tOrdinal0 [0x006C2E08+1060360]\n\tOrdinal0 [0x006EE49E+1238174]\n\tOrdinal0 [0x006EE69B+1238683]\n\tOrdinal0 [0x006E4A01+1198593]\n\tOrdinal0 [0x00707B54+1342292]\n\tOrdinal0 [0x006E4984+1198468]\n\tOrdinal0 [0x00707C14+1342484]\n\tOrdinal0 [0x007175FA+1406458]\n\tOrdinal0 [0x00707976+1341814]\n\tOrdinal0 [0x006E36B6+1193654]\n\tOrdinal0 [0x006E4546+1197382]\n\tGetHandleVerifier [0x009C9622+1619522]\n\tGetHandleVerifier [0x00A7882C+2336844]\n\tGetHandleVerifier [0x008C23E1+541697]\n\tGetHandleVerifier [0x008C1443+537699]\n\tOrdinal0 [0x007CD18E+2150798]\n\tOrdinal0 [0x007D1518+2168088]\n\tOrdinal0 [0x007D1660+2168416]\n\tOrdinal0 [0x007DB330+2208560]\n\tBaseThreadInitThunk [0x7682FA29+25]\n\tRtlGetAppContainerNamedObjectPath [0x77A47A9E+286]\n\tRtlGetAppContainerNamedObjectPath [0x77A47A6E+238]\n"
     ]
    }
   ],
   "source": [
    "for j in range(0,1): # 20 sayfadan az sonuc sayfasi varsa bu deger degistirilmeli\n",
    "    time.sleep(5)\n",
    "    items = driver.find_elements_by_class_name(\"v2-listing-card__info\")\n",
    "    #ilk satir baslik satiri, onu siliyoruz\n",
    "    #items.pop(0)\n",
    "    for i in range(len(items)):\n",
    "        # reklam satirini okuma\n",
    "        #if(items[i].get_attribute(\"class\") == \"searchResultsItem nativeAd classicNativeAd\"):\n",
    "         #   continue\n",
    "        price = items[i].find_element_by_class_name(\"currency-value\").text\n",
    "        title = items[i].find_element_by_class_name(\"wt-text-caption.v2-listing-card__title.wt-text-truncate.wt-mb-xs-0\").text\n",
    "        #sales = items[i].find_element_by_class_name(\"wt-text-body-01\").text\n",
    "        #fiyat = items[i].find_element_by_class_name(\"searchResultsPriceValue\").find_element_by_tag_name(\"div\").text\n",
    "        #if( items[i].find_element_by_class_name(\"wt-text-body-01.wt-nudge-b-1.wt-text-gray.wt-display-inline-block.wt-nudge-l-3.wt-pr-xs-1\").text is None):\n",
    "            #unnecessary = WebDriverWait(browser, 5).until(EC.presence_of_element_located((By.CLASS_NAME,\"wt-text-body-01.wt-nudge-b-1.wt-text-gray.wt-display-inline-block.wt-nudge-l-3.wt-pr-xs-1\")))\n",
    "            #sales = None\n",
    "        #else:\n",
    "            #sales = items[i].find_element_by_class_name(\"wt-text-body-01\").text \n",
    "        #sales = WebDriverWait(driver, 1).until(EC.presence_of_element_located((By.CLASS_NAME,\"wt-text-body-01.wt-nudge-b-1.wt-text-gray.wt-display-inline-block \"))).text\n",
    "        #sales = ''\n",
    "        #elem = retryingFind(EC.presence_of_element_located((By.CLASS_NAME, \"wt-text-body-01.wt-nudge-b-1.wt-text-gray.wt-display-inline-block\")))\n",
    "        #denemek için başka alanı aldım sales değeri değil yukarıdaki sales\n",
    "        #elem = retryingFind(EC.presence_of_element_located((By.CLASS_NAME, \"wt-text-caption-title.wt-nudge-l-2.search-lavender-text\")))\n",
    "        #if not(elem.text==''):\n",
    "            #sales = elem[i].text\n",
    "            #print(elem.text)\n",
    "            #print('\\n')\n",
    "        #else :\n",
    "            #sales=''\n",
    "        #size = items[i].find_elements_by_class_name(\"searchResultsAttributeValue\")[0].text\n",
    "        #oda_sayisi = items[i].find_elements_by_class_name(\"searchResultsAttributeValue\")[1].text\n",
    "        #tarih = items[i].find_element_by_class_name(\"searchResultsDateValue\").text\n",
    "        temp = [price,title,sales]\n",
    "        temp_df = pd.DataFrame([temp],columns=dfx.columns)\n",
    "        dfx = pd.concat([dfx,temp_df],ignore_index=True)\n",
    "    #driver.get(f\"https://www.sahibinden.com/satilik-daire/ankara-yenimahalle-karsiyaka?pagingOffset={(j+1)*50}&pagingSize=50&sorting=date_desc\")"
   ]
  }
 ],
 "metadata": {
  "kernelspec": {
   "display_name": "Python 3",
   "language": "python",
   "name": "python3"
  },
  "language_info": {
   "codemirror_mode": {
    "name": "ipython",
    "version": 3
   },
   "file_extension": ".py",
   "mimetype": "text/x-python",
   "name": "python",
   "nbconvert_exporter": "python",
   "pygments_lexer": "ipython3",
   "version": "3.8.5"
  }
 },
 "nbformat": 4,
 "nbformat_minor": 4
}
